{
  "nbformat": 4,
  "nbformat_minor": 0,
  "metadata": {
    "colab": {
      "name": "SentimentAnalysis",
      "provenance": [],
      "authorship_tag": "ABX9TyNS0XdG3iRCj2ytNLV70ZJ9",
      "include_colab_link": true
    },
    "kernelspec": {
      "name": "python3",
      "display_name": "Python 3"
    },
    "language_info": {
      "name": "python"
    }
  },
  "cells": [
    {
      "cell_type": "markdown",
      "metadata": {
        "id": "view-in-github",
        "colab_type": "text"
      },
      "source": [
        "<a href=\"https://colab.research.google.com/github/Abhishek-GitHub3/Projects/blob/main/SentimentAnalysis.ipynb\" target=\"_parent\"><img src=\"https://colab.research.google.com/assets/colab-badge.svg\" alt=\"Open In Colab\"/></a>"
      ]
    },
    {
      "cell_type": "code",
      "metadata": {
        "id": "vIzkCMsyHt1A"
      },
      "source": [
        "X_train = [\"This was awesome an awesome movie\",\n",
        "    \"Great movie! I Liked it a lot\",\n",
        "    \"Happy Ending! Awesome by hero\",\n",
        "    \"loved it!\",\n",
        "    \"Bad not upto the mark\",\n",
        "    \"Could have been better\",\n",
        "    \"Dissapointed by the move\"]\n",
        "\n",
        "y_train = [\"positive\",\"positive\",\"positive\",\"positive\",\"Negative\",\"Negative\",\"Negative\"] # 1- Positive Class, 0 - Negative Class\n",
        "\n",
        "#x_test = [\"I was happy & happy and i loved the acting in the movie\",\n",
        "    #\"The movie i saw was bad\"]"
      ],
      "execution_count": 1,
      "outputs": []
    },
    {
      "cell_type": "markdown",
      "metadata": {
        "id": "-6vwIxMfIhvY"
      },
      "source": [
        "# Cleaning the Data\n"
      ]
    },
    {
      "cell_type": "code",
      "metadata": {
        "id": "30wMRQ59H4CC"
      },
      "source": [
        "from nltk.tokenize import RegexpTokenizer"
      ],
      "execution_count": 2,
      "outputs": []
    },
    {
      "cell_type": "code",
      "metadata": {
        "id": "UPU6cedxH6XG"
      },
      "source": [
        "from nltk.stem.porter import PorterStemmer\n",
        "from nltk.corpus import stopwords\n"
      ],
      "execution_count": 3,
      "outputs": []
    },
    {
      "cell_type": "code",
      "metadata": {
        "colab": {
          "base_uri": "https://localhost:8080/"
        },
        "id": "CfKcRQHXH76a",
        "outputId": "9a0e6aa8-bb69-401c-e6d3-0b2aa8f1f07a"
      },
      "source": [
        "import nltk\n",
        "nltk.download('stopwords')"
      ],
      "execution_count": 4,
      "outputs": [
        {
          "output_type": "stream",
          "name": "stdout",
          "text": [
            "[nltk_data] Downloading package stopwords to /root/nltk_data...\n",
            "[nltk_data]   Unzipping corpora/stopwords.zip.\n"
          ]
        },
        {
          "output_type": "execute_result",
          "data": {
            "text/plain": [
              "True"
            ]
          },
          "metadata": {},
          "execution_count": 4
        }
      ]
    },
    {
      "cell_type": "code",
      "metadata": {
        "id": "mgNIgmTrH9Lw"
      },
      "source": [
        "tokenizer = RegexpTokenizer(r\"\\w+\")\n",
        "en_stopwords = set(stopwords.words('english'))\n",
        "ps = PorterStemmer()"
      ],
      "execution_count": 5,
      "outputs": []
    },
    {
      "cell_type": "code",
      "metadata": {
        "id": "ERJRGGCMH-iv"
      },
      "source": [
        "def getCleanedText(text):\n",
        "  text = text.lower()\n",
        "\n",
        "  # tokenize\n",
        "\n",
        "  tokens = tokenizer.tokenize(text)\n",
        "  new_tokens = [token for token in tokens if token not in en_stopwords ]\n",
        "\n",
        "  stemmed_tokens = [ps.stem(tokens) for tokens in new_tokens]\n",
        "\n",
        "  clean_text = \" \".join(stemmed_tokens)\n",
        "\n",
        "  return clean_text"
      ],
      "execution_count": 6,
      "outputs": []
    },
    {
      "cell_type": "code",
      "metadata": {
        "id": "cey-RIf5IAFx"
      },
      "source": [
        "X_test = [\"it was excellent\"]\n"
      ],
      "execution_count": 7,
      "outputs": []
    },
    {
      "cell_type": "code",
      "metadata": {
        "id": "q-B3jMHMICAc"
      },
      "source": [
        "X_clean = [getCleanedText(i) for i in X_train]\n",
        "xt_clean = [getCleanedText(i) for i in X_test]"
      ],
      "execution_count": 8,
      "outputs": []
    },
    {
      "cell_type": "code",
      "metadata": {
        "colab": {
          "base_uri": "https://localhost:8080/"
        },
        "id": "VbA7MsqBIELj",
        "outputId": "e041972a-4d8a-4584-f524-fffd73664f5b"
      },
      "source": [
        "\n",
        "X_clean"
      ],
      "execution_count": 9,
      "outputs": [
        {
          "output_type": "execute_result",
          "data": {
            "text/plain": [
              "['awesom awesom movi',\n",
              " 'great movi like lot',\n",
              " 'happi end awesom hero',\n",
              " 'love',\n",
              " 'bad upto mark',\n",
              " 'could better',\n",
              " 'dissapoint move']"
            ]
          },
          "metadata": {},
          "execution_count": 9
        }
      ]
    },
    {
      "cell_type": "code",
      "metadata": {
        "id": "IFPiHfcqIGDl"
      },
      "source": [
        "from sklearn.feature_extraction.text import CountVectorizer"
      ],
      "execution_count": 10,
      "outputs": []
    },
    {
      "cell_type": "code",
      "metadata": {
        "id": "idFGiW18II1L"
      },
      "source": [
        "cv = CountVectorizer(ngram_range = (1,2))\n"
      ],
      "execution_count": 11,
      "outputs": []
    },
    {
      "cell_type": "code",
      "metadata": {
        "id": "bdJpQLVnIKGP"
      },
      "source": [
        "X_vec = cv.fit_transform(X_clean).toarray()"
      ],
      "execution_count": 12,
      "outputs": []
    },
    {
      "cell_type": "code",
      "metadata": {
        "colab": {
          "base_uri": "https://localhost:8080/"
        },
        "id": "zqO9pmvaILIh",
        "outputId": "2853b09b-43b0-4169-d060-f7afb15b9df5"
      },
      "source": [
        "X_vec \n"
      ],
      "execution_count": 13,
      "outputs": [
        {
          "output_type": "execute_result",
          "data": {
            "text/plain": [
              "array([[2, 1, 0, 1, 0, 0, 0, 0, 0, 0, 0, 0, 0, 0, 0, 0, 0, 0, 0, 0, 0, 0,\n",
              "        0, 0, 1, 0, 0, 0],\n",
              "       [0, 0, 0, 0, 0, 0, 0, 0, 0, 0, 0, 0, 0, 1, 1, 0, 0, 0, 1, 1, 1, 0,\n",
              "        0, 0, 1, 1, 0, 0],\n",
              "       [1, 0, 1, 0, 0, 0, 0, 0, 0, 0, 0, 1, 1, 0, 0, 1, 1, 1, 0, 0, 0, 0,\n",
              "        0, 0, 0, 0, 0, 0],\n",
              "       [0, 0, 0, 0, 0, 0, 0, 0, 0, 0, 0, 0, 0, 0, 0, 0, 0, 0, 0, 0, 0, 1,\n",
              "        0, 0, 0, 0, 0, 0],\n",
              "       [0, 0, 0, 0, 1, 1, 0, 0, 0, 0, 0, 0, 0, 0, 0, 0, 0, 0, 0, 0, 0, 0,\n",
              "        1, 0, 0, 0, 1, 1],\n",
              "       [0, 0, 0, 0, 0, 0, 1, 1, 1, 0, 0, 0, 0, 0, 0, 0, 0, 0, 0, 0, 0, 0,\n",
              "        0, 0, 0, 0, 0, 0],\n",
              "       [0, 0, 0, 0, 0, 0, 0, 0, 0, 1, 1, 0, 0, 0, 0, 0, 0, 0, 0, 0, 0, 0,\n",
              "        0, 1, 0, 0, 0, 0]])"
            ]
          },
          "metadata": {},
          "execution_count": 13
        }
      ]
    },
    {
      "cell_type": "code",
      "metadata": {
        "colab": {
          "base_uri": "https://localhost:8080/"
        },
        "id": "lNIlZOaVINLc",
        "outputId": "abdc00dd-e91e-4687-91a0-0088a866c1e0"
      },
      "source": [
        "print(cv.get_feature_names())"
      ],
      "execution_count": 14,
      "outputs": [
        {
          "output_type": "stream",
          "name": "stdout",
          "text": [
            "['awesom', 'awesom awesom', 'awesom hero', 'awesom movi', 'bad', 'bad upto', 'better', 'could', 'could better', 'dissapoint', 'dissapoint move', 'end', 'end awesom', 'great', 'great movi', 'happi', 'happi end', 'hero', 'like', 'like lot', 'lot', 'love', 'mark', 'move', 'movi', 'movi like', 'upto', 'upto mark']\n"
          ]
        }
      ]
    },
    {
      "cell_type": "code",
      "metadata": {
        "id": "FxzdV_8vIO1q"
      },
      "source": [
        "Xt_vect = cv.transform(xt_clean).toarray()"
      ],
      "execution_count": 15,
      "outputs": []
    },
    {
      "cell_type": "code",
      "metadata": {
        "id": "KDjB186TIQjR"
      },
      "source": [
        "from sklearn.naive_bayes import MultinomialNB"
      ],
      "execution_count": 16,
      "outputs": []
    },
    {
      "cell_type": "code",
      "metadata": {
        "id": "3wdFJGzCIS0Z"
      },
      "source": [
        "mn = MultinomialNB()"
      ],
      "execution_count": 17,
      "outputs": []
    },
    {
      "cell_type": "code",
      "metadata": {
        "colab": {
          "base_uri": "https://localhost:8080/"
        },
        "id": "QrswEvBgIUyG",
        "outputId": "0290e106-424a-4340-d18d-cbc9e90486ec"
      },
      "source": [
        "mn.fit(X_vec, y_train)"
      ],
      "execution_count": 18,
      "outputs": [
        {
          "output_type": "execute_result",
          "data": {
            "text/plain": [
              "MultinomialNB(alpha=1.0, class_prior=None, fit_prior=True)"
            ]
          },
          "metadata": {},
          "execution_count": 18
        }
      ]
    },
    {
      "cell_type": "code",
      "metadata": {
        "id": "JtAnnx7MIVtg"
      },
      "source": [
        "y_pred = mn.predict(Xt_vect)"
      ],
      "execution_count": 19,
      "outputs": []
    },
    {
      "cell_type": "code",
      "metadata": {
        "colab": {
          "base_uri": "https://localhost:8080/"
        },
        "id": "F-2Vi4WqIXNv",
        "outputId": "c7f78bb9-e504-49fb-c41e-5be7ae7953d2"
      },
      "source": [
        "y_pred"
      ],
      "execution_count": 20,
      "outputs": [
        {
          "output_type": "execute_result",
          "data": {
            "text/plain": [
              "array(['positive'], dtype='<U8')"
            ]
          },
          "metadata": {},
          "execution_count": 20
        }
      ]
    },
    {
      "cell_type": "code",
      "metadata": {
        "id": "cyTBgsYVIYaI"
      },
      "source": [
        ""
      ],
      "execution_count": null,
      "outputs": []
    },
    {
      "cell_type": "code",
      "metadata": {
        "id": "0vIhOLiWIDED"
      },
      "source": [
        ""
      ],
      "execution_count": null,
      "outputs": []
    }
  ]
}